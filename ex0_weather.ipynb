{
 "cells": [
  {
   "cell_type": "code",
   "execution_count": 2,
   "metadata": {},
   "outputs": [
    {
     "name": "stdout",
     "output_type": "stream",
     "text": [
      "<ul class=\"today_chart_list\"> <li class=\"item_today level2\"> <a href=\"#\" nocr=\"\" onclick=\"goOtherTCR(this, 'a=nco_x7t*4&amp;r=1&amp;i=88157038_00000065035F');return false;\"> <strong class=\"title\">자외선</strong> <span class=\"txt\">보통</span> </a> </li> <li class=\"item_today type_sun\"> <a href=\"#\" nocr=\"\" onclick=\"goOtherTCR(this, 'a=nco_x7t*4&amp;r=1&amp;i=88157038_00000065035F');return false;\"> <strong class=\"title\">일몰</strong> <span class=\"txt\">17:59</span> </a> </li> </ul>\n"
     ]
    }
   ],
   "source": [
    "from bs4 import BeautifulSoup as bs \n",
    "from pprint import pprint\n",
    "import requests\n",
    "\n",
    "html = requests.get('https://search.naver.com/search.naver?query=날씨')\n",
    "# pprint(html.text)\n",
    "\n",
    "soup = bs(html.text,'html.parser')\n",
    "\n",
    "data1 = soup.find('ul',{'class':'today_chart_list'})\n",
    "pprint(data1)\n",
    "\n",
    "#data2 = data1.findAll('li')\n",
    "#pprint(data2)\n",
    "\n",
    "# weather = data2[0].find('span', {'class':'txt'})\n",
    "# pprint(weather.text)"
   ]
  }
 ],
 "metadata": {
  "interpreter": {
   "hash": "63fd5069d213b44bf678585dea6b12cceca9941eaf7f819626cde1f2670de90d"
  },
  "kernelspec": {
   "display_name": "Python 3.9.5 64-bit",
   "name": "python3"
  },
  "language_info": {
   "codemirror_mode": {
    "name": "ipython",
    "version": 3
   },
   "file_extension": ".py",
   "mimetype": "text/x-python",
   "name": "python",
   "nbconvert_exporter": "python",
   "pygments_lexer": "ipython3",
   "version": "3.9.5"
  },
  "orig_nbformat": 4
 },
 "nbformat": 4,
 "nbformat_minor": 2
}
