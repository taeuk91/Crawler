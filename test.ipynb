{
 "cells": [
  {
   "cell_type": "code",
   "execution_count": 2,
   "source": [
    "from selenium import webdriver\r\n",
    "from selenium.webdriver.common.keys import Keys \r\n",
    "import time \r\n",
    "\r\n",
    "driver = webdriver.Chrome('chromedriver.exe')\r\n",
    "driver.get('https://www.youtube.com/channel/UCaWUqtC_NgrZs5DoXGDmkeA/community?lb=UgwXI11392mVdzGF7FZ4AaABCQ')\r\n",
    "\r\n",
    "time.sleep(3)"
   ],
   "outputs": [],
   "metadata": {}
  },
  {
   "cell_type": "code",
   "execution_count": 5,
   "source": [
    "users = []\r\n",
    "\r\n",
    "for i in range(950):\r\n",
    "  try : \r\n",
    "    e = driver.find_elements_by_css_selector('h3.ytd-comment-renderer a span')[i].text\r\n",
    "    print(e)\r\n",
    "    users.append(e)\r\n",
    "  except : \r\n",
    "    pass\r\n",
    "print(e)\r\n",
    "\r\n",
    "with open('names.csv', 'w', encoding='utf-8') as f:\r\n",
    "  for i in users:\r\n",
    "    f.write(i + '\\n')"
   ],
   "outputs": [
    {
     "output_type": "stream",
     "name": "stdout",
     "text": [
      "\n",
      "손지원\n",
      "07 Raptorous\n",
      "연진\n",
      "김무겸\n",
      "경현\n",
      "김시현\n",
      "쟈\n",
      "옥돌치명적\n",
      "뽁뽁2\n",
      "신동진\n",
      "열린결말\n",
      "임정묵\n",
      "김딴딴\n",
      "이정민\n",
      "정윤서\n",
      "허재훈\n",
      "이현우\n",
      "혜원\n",
      "현아 Sings a song\n",
      "정희수\n",
      "Alice\n",
      "이충윤\n",
      "박민지\n",
      "최희원\n",
      "김중호\n",
      "김소정\n",
      "kkk\n",
      "wlsdnjs\n",
      "장꾸\n",
      "jun jun\n",
      "서리\n",
      "최재민\n",
      "와아\n",
      "김시우\n",
      "김동욱\n",
      "먼쪼\n",
      "이찬영\n",
      "CreA RS\n",
      "김지윤\n",
      "Li무진\n",
      "우준하\n",
      "gg\n",
      "Elliott Park\n",
      "II\n",
      "혜롱e\n",
      "김준석\n",
      "안가현\n",
      "가갸나냐\n",
      "김범준\n",
      "김아론\n",
      "Yeon\n",
      "이민헌\n",
      "권세윤\n",
      "홍기범\n",
      "Hyeongmin Chang\n",
      "다요요요\n",
      "김민주\n",
      "라이온킹\n",
      "김예원\n",
      "김예원\n"
     ]
    }
   ],
   "metadata": {}
  },
  {
   "cell_type": "code",
   "execution_count": 7,
   "source": [
    "#e = driver.find_element_by_tag_name('body')\r\n",
    "\r\n",
    "users = []\r\n",
    "for i in range(100):\r\n",
    "  #e.send_keys(Keys.PAGE_DOWN)\r\n",
    "  \r\n",
    "  e2 = driver.find_elements_by_css_selector('h3.ytd-comment-renderer a span')[i].text\r\n",
    "  users.append(e2)  \r\n",
    "  \r\n",
    "  #time.sleep(0.02)\r\n",
    "\r\n",
    "with open('names.csv', 'w', encoding='utf-8') as f:\r\n",
    "  for i in users:\r\n",
    "    f.write(i + '\\n')"
   ],
   "outputs": [],
   "metadata": {}
  }
 ],
 "metadata": {
  "orig_nbformat": 4,
  "language_info": {
   "name": "python",
   "version": "3.9.5",
   "mimetype": "text/x-python",
   "codemirror_mode": {
    "name": "ipython",
    "version": 3
   },
   "pygments_lexer": "ipython3",
   "nbconvert_exporter": "python",
   "file_extension": ".py"
  },
  "kernelspec": {
   "name": "python3",
   "display_name": "Python 3.9.5 64-bit"
  },
  "interpreter": {
   "hash": "63fd5069d213b44bf678585dea6b12cceca9941eaf7f819626cde1f2670de90d"
  }
 },
 "nbformat": 4,
 "nbformat_minor": 2
}