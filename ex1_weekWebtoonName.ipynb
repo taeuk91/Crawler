{
 "cells": [
  {
   "cell_type": "code",
   "execution_count": 2,
   "metadata": {},
   "outputs": [
    {
     "name": "stdout",
     "output_type": "stream",
     "text": [
      "['독립일기',\n",
      " '무서운게 딱좋아!',\n",
      " '싸움독학',\n",
      " '입학용병',\n",
      " '수희0(tngmlek0)',\n",
      " '열렙전사',\n",
      " '약한영웅',\n",
      " '이번 생도 잘 부탁해',\n",
      " '투신전생기',\n",
      " '닥터앤닥터 육아일기',\n",
      " '어느날 갑자기 서울은',\n",
      " '곱게 키웠더니, 짐승',\n",
      " '소녀재판',\n",
      " '천하제일인',\n",
      " '오로지 너를 이기고 싶어',\n",
      " '나만 보여!',\n",
      " '테러대부활',\n",
      " '경자 전성시대',\n",
      " '살아남은 로맨스',\n",
      " '내일',\n",
      " '별이삼샵',\n",
      " '합격시켜주세용',\n",
      " '오늘도 기록생활',\n",
      " '마법스크롤 상인 지오',\n",
      " '위닝샷!',\n",
      " '가비지타임',\n",
      " '판사 이한영',\n",
      " '벚꽃이 흩날릴 무렵',\n",
      " '사실 마법이었던 거임',\n",
      " '당신의 여자가 되고 싶어요',\n",
      " '로어 올림푸스',\n",
      " '몸이 바뀌는 사정',\n",
      " '강남도깨비',\n",
      " '보스의 노골적 취향',\n",
      " '학교정벌',\n",
      " '천치전능',\n",
      " '동생친구',\n",
      " '평행도시',\n",
      " '랑데뷰',\n",
      " '아르세니아의 마법사',\n",
      " '생존로그',\n",
      " '잉여특공대',\n",
      " '결혼까지 망상했어!',\n",
      " '보통아이',\n",
      " '전설의 화석',\n",
      " '데빌샷',\n",
      " '예쁜 사나이',\n",
      " '사람은 고쳐 쓰는 게 아니야!',\n",
      " '오른눈이 보는 세계',\n",
      " '굿 리스너',\n",
      " '취향 소개소',\n",
      " '혀로 만난 사이',\n",
      " '패션쇼',\n",
      " '불순물',\n",
      " '다시 또 봄',\n",
      " '위험한 신입사원',\n",
      " '조선여우스캔들',\n",
      " '라커, 오프너',\n",
      " '황제에게 하트를 심어주세요',\n",
      " '오늘 밤만 재워줘',\n",
      " '가짜인간',\n",
      " '거래하실래요?',\n",
      " '호수의 인어',\n",
      " '짝사랑의 유서',\n",
      " '제타',\n",
      " '데이즈',\n",
      " '독신마법사 기숙아파트',\n",
      " '샤인 스타',\n",
      " '푸른불꽃',\n",
      " '호시탐탐']\n"
     ]
    }
   ],
   "source": [
    "from bs4 import BeautifulSoup\n",
    "from pprint import pprint\n",
    "import requests\n",
    "\n",
    "#웹 페이지를 열고 소스코드를 읽어오는 작업\n",
    "html = requests.get(\"http://comic.naver.com/webtoon/weekday.nhn\")\n",
    "soup = BeautifulSoup(html.text, 'html.parser')\n",
    "html.close()\n",
    "\n",
    "\n",
    "# #월요웹툰영역 추출하기\n",
    "data_List=soup.findAll('div',{'class':'col_inner'})\n",
    "# #pprint(data1)\n",
    "\n",
    "week_title_List = []\n",
    "for data in data_List:\n",
    "    data2=data.findAll('a', {'class' : 'title'})\n",
    "# # title_list = []\n",
    "# # for title in data2:\n",
    "# #     title_list.append(title.text)\n",
    "    title_list = [title.text for title in data2]\n",
    "    week_title_List.append(title_list)\n",
    "    #week_title_List.extend(title_list) # 하나의 리스트에 계속 추가\n",
    "\n",
    "pprint(week_title_List[6])"
   ]
  },
  {
   "cell_type": "code",
   "execution_count": 3,
   "metadata": {},
   "outputs": [
    {
     "ename": "NameError",
     "evalue": "name 'python' is not defined",
     "output_type": "error",
     "traceback": [
      "\u001b[1;31m---------------------------------------------------------------------------\u001b[0m",
      "\u001b[1;31mNameError\u001b[0m                                 Traceback (most recent call last)",
      "\u001b[1;32m<ipython-input-3-32886514c262>\u001b[0m in \u001b[0;36m<module>\u001b[1;34m\u001b[0m\n\u001b[1;32m----> 1\u001b[1;33m \u001b[0mpython\u001b[0m\u001b[1;33m\u001b[0m\u001b[1;33m\u001b[0m\u001b[0m\n\u001b[0m",
      "\u001b[1;31mNameError\u001b[0m: name 'python' is not defined"
     ]
    }
   ],
   "source": [
    "print(pytho)"
   ]
  }
 ],
 "metadata": {
  "interpreter": {
   "hash": "63fd5069d213b44bf678585dea6b12cceca9941eaf7f819626cde1f2670de90d"
  },
  "kernelspec": {
   "display_name": "Python 3.9.5 64-bit",
   "name": "python3"
  },
  "language_info": {
   "codemirror_mode": {
    "name": "ipython",
    "version": 3
   },
   "file_extension": ".py",
   "mimetype": "text/x-python",
   "name": "python",
   "nbconvert_exporter": "python",
   "pygments_lexer": "ipython3",
   "version": "3.9.5"
  },
  "orig_nbformat": 4
 },
 "nbformat": 4,
 "nbformat_minor": 2
}
