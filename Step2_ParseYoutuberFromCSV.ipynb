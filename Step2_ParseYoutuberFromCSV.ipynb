{
 "cells": [
  {
   "cell_type": "code",
   "execution_count": 15,
   "metadata": {},
   "outputs": [],
   "source": [
    "import requests, re, os \n",
    "from bs4 import BeautifulSoup\n",
    "import time\n",
    "import urllib.request #\n",
    "from selenium.webdriver import Chrome\n",
    "from selenium.webdriver.chrome.options import Options\n",
    "from selenium.webdriver.common.keys import Keys\n",
    "import datetime as dt\n",
    "from urllib.request import urlretrieve\n",
    "import csv\n",
    "\n",
    "#저장 폴더를 생성\n",
    "try:\n",
    "    if not (os.path.isdir('image')):\n",
    "        os.makedirs(os.path.join('image'))\n",
    "except OSError as e:\n",
    "    if e.errno != e.errno.EEXIST:\n",
    "        print(\"폴더 생성 실패!\")\n",
    "        exit()\n",
    "\n",
    "delay=3\n",
    "browser = Chrome()\n",
    "browser.implicitly_wait(delay)\n",
    "\n",
    "start_url  = 'https://www.youtube.com'\n",
    "browser.get(start_url)\n",
    "\n",
    "\n",
    "def searchWords(word):\n",
    "    search = browser.find_element_by_name('search_query')\n",
    "\n",
    "    search.clear()\n",
    "    search.send_keys(word)\n",
    "    time.sleep(1)\n",
    "\n",
    "    # CSV 파일에 검색어 저장\n",
    "    # time.sleep(5)\n",
    "    # with open('info.csv', 'a', newline='', encoding='utf-8-sig') as f:\n",
    "    #     writer = csv.writer(f)\n",
    "    #     writer.writerow([word])\n",
    "    \n",
    "    search.send_keys(Keys.ENTER)\n",
    "    time.sleep(1)"
   ]
  },
  {
   "cell_type": "code",
   "execution_count": 41,
   "metadata": {},
   "outputs": [
    {
     "name": "stdout",
     "output_type": "stream",
     "text": [
      ":\n"
     ]
    }
   ],
   "source": [
    "def ParseYoutuberFromCSV(fileName):\n",
    "    new_info_list = []\n",
    "    with open(fileName, newline='', encoding='utf-8') as f:\n",
    "        reader = csv.reader(f)\n",
    "        for row in reader:\n",
    "            new_info_list.append(row)\n",
    "\n",
    "    for row in new_info_list[1]:\n",
    "        print(row[4])\n",
    "    \n",
    "    # infoEnum = ['비디오시간', '제목', '조회수', '게시년도', '게시자', '주요댓글', '자막여부']\n",
    "    # search = infoEnum[1] + \" : \" +info_list[0][1]  \n",
    "    # print(search)\n",
    "\n",
    "ParseYoutuberFromCSV('info.csv')"
   ]
  },
  {
   "cell_type": "code",
   "execution_count": 59,
   "metadata": {},
   "outputs": [
    {
     "name": "stdout",
     "output_type": "stream",
     "text": [
      "0\n",
      "['20:41', '유튜브 구독자 늘리는 법! 이론이 아닌 실전 꿀팁. 유튜브 키우기, 알고리즘.', '조회수 92만회', '2년 전', '리섭TV', '리섭TV 메일 : leeseobtv@gmail.com 항상 감사드립니다 :)', '2:21 유튜브 도 아무런 비빌 언덕이 없는 확고'] : NOT O.K.\n",
      ":\n",
      "['3:32', '오버워치 관계자님앞에서 정치질하는 유튜버ㅋㅋㅋㅋㅋㅋ', '조회수 62만회', '2년 전', '김재원의 즐거운 세상', '재미있게 보셧나용 김재원 방송 https://www.twitch.tv/jaewon4915 김재원 메일 wodnjs2601@naver.com 구독 눌러주시고 알람 ...'] : NOT O.K.\n",
      "5\n",
      "['15:55', '보수 우파 유튜버 수익순위 top20', '조회수 59만회', '1년 전', '내편TV', '보수 우파 유튜버는 얼마를 벌고 있는지 정리해 보았습니다. BGM : bensound.com.'] : NOT O.K.\n",
      ":\n",
      "['9:57', '유튜버 고소한 장제원 의원! 잘못 건드렸다! 아들 장용준(래퍼 노엘)사건을 면밀히 복기한다!', '조회수 41만회', '11개월 전', '정치초단'] : NOT O.K.\n",
      "5\n",
      "['25:39', '[안철수] 유튜브의 세계 그것을 알려드림 | 안철수, 200만 유튜버 진용진을 만나다 | 안박싱', '조회수 22만회', '1년 전', '안철수', '00:00 하이라이트 00:17 인트로 01:31 진용진의 섭외 비법 02:30 섭외하는 사람들의 기준 03:09 섭외의도 03:44 위험한 섭외 많았 ...'] : NOT O.K.\n",
      ":\n",
      "['2:51', '정치 유튜버들 줄줄이 구속 | 도람뿌', '조회수 15만회', '2개월 전', '도람뿌', '멤버십 가입 : https://bit.ly/36vdJFD 구독하기:https://goo.gl/ne7ndY 도람뿌 서브채널:https://goo.gl/4zveMK 페이스 ...'] : NOT O.K.\n",
      ":\n",
      "['8:02', '유시민 \"정치 절대 안해\"…홍준표 \"절대는 스님 담뱃대\" / 연합뉴스 (Yonhapnews)', '조회수 11만회', '2년 전', '연합뉴스 Yonhapnews', \"유시민 #홍준표 #홍카레오 (서울=연합뉴스) 노무현재단 유시민 이사장과 자유한국당 홍준표 전 대표가 3일 유튜브 공동 방송 '홍카레 ...\"] : NOT O.K.\n",
      "0\n",
      "['10:03', '선전선동 당하려면 몰라도 되는 정치성향 구분법 (가짜 좌파 우파 진보 보수??가 판친다)', '조회수 11만회', '2년 전', '더나은삶TV', '[더나은삶] 더나은사회를 위한 14번째 영상 - 정치성향 구분법 (좌파 우파 진보 보수?) - 이분법적'] : NOT O.K.\n",
      "3\n",
      "['13:28', '이 정도면 최고 유망직업? 보수 진보 유튜브 채널 수익비교', '조회수 10만회', '1년 전', '내편TV', '보수 진보 top10 정치시사 유튜브 채널 수익비교 BGM : bensound.com.'] : NOT O.K.\n",
      "1\n",
      "['11:25', \"우리는 '극우채널' 뻑가 한테 졌다! 민주 유튜버 육성 프로젝트 시작!\", '조회수 9.9만회', '6개월 전', '정치초단', \"보궐 선거 참패 이후, 민주당 초선 의원 5명이 선거 참패 원인으로 '조국' 때문이라는 취지의 성명을 발표해서 지지자들의 분노를 크게 ...\"] : NOT O.K.\n",
      ":\n",
      "['2:34:51', '언택트 정치버스킹 | 꿈꾸는 대한민국 - 유튜버 대담(2021.1.27)', '조회수 9.1만회', '8개월 전', 'TV홍카콜라', '40만 구독자 기념 방송을 함께 해주신 신의 한수, 배승희 변호사, 김태우 TV, 펜앤드 마이크, 이봉규 TV, 성제준 TV, 고성국 TV, 청아대, ...'] : NOT O.K.\n",
      ":\n",
      "['4:58', '김무성 \"보수유튜버, 전부 썩은놈들이야. 다 돈벌어 먹으려고\"', '조회수 8.7만회', '1년 전', '한국일보(hankookilbo.com)', '김무성이 분석한 야당 총선 참패의 원인은 무엇일까?'] : NOT O.K.\n",
      "0\n",
      "['40만 구독자를 보유한 파워 유튜버 황장수를 말한다(19.11.19)', '조회수 6.4만회', '1년 전', '김인성의 작은 이야기들', '수구 꼴통 극우 유튜버로 매도 당하고 있는 황장수 뉴스브리핑의 황장수에 대해서 말한다. 그는 과연 수구 꼴통'] : NOT O.K.\n",
      "런\n",
      "['이런건 유튜버가 아닙니다 [정치재판]', '조회수 5.7만회', '1년 전', '시심이', '이런건 유튜버가 아닙니다 [정치재판] 억울하게 정치당한 유저를 찾습니다'] : NOT O.K.\n",
      "국\n",
      "['한국당, 유튜버 탄압 못참아!!! 대규모 변호인단 구성!!! (박창훈 정치부장) / 신의한수', '조회수 5.4만회', '2년 전', '신의한수'] : NOT O.K.\n",
      "만\n",
      "['6만 정치유튜버가 알려주는 허경영 차기대통령 당선 시나리오', '조회수 5.3만회', '1년 전', '허경영강연짤', '본좌섭리회 안내 대표번호 : 1688-3750 □강연 안내 : 010-4355-3750 / 02-6285-3315 □국가혁명당 안내 : www.국가혁명당.kr ...'] : NOT O.K.\n",
      "치\n",
      "['정치클리핑 28회 - 극우 유튜버와 전쟁선포한 미통당 김무성과 정의연 수요집회', '조회수 5.3만회', '스트리밍 시간: 1년 전', '시사타파TV'] : NOT O.K.\n",
      "실\n",
      "['[실시간] 정치/시사분야 자유우파 애국 유튜버 구독자 순위 TOP 50.', '조회수 4.9만회', '스트리밍 시간: 2년 전', '우리차트', '같은 우파적인 성향을 갖고 있지만 개인의 정치 성향이나 지향성이 다를 수 있습니다. 타'] : NOT O.K.\n",
      ":\n",
      "['2:13', \"한국당, '유튜브 정치'에 올인?! '신의한수·고성국TV·정규재TV'와 손잡고 릴레이 농성 시작\", '조회수 4.4만회', '2년 전', '팩트TV NEWS', '2019년 2월 8일 국회에서 자유한국당 원내대책회의가 진행되었다. [영상 제보 받습니다] 진실언론 팩트TV가 독자 여러분의 소중한 ...'] : NOT O.K.\n"
     ]
    }
   ],
   "source": [
    "import datetime\n",
    "\n",
    "## Python에서 인식하는 날짜의 포맷\n",
    "system_date_format = '%Y/%m/%d'\n",
    "\n",
    "with open('info.csv', newline='', encoding='utf-8') as f:\n",
    "    rdr = csv.reader(f)\n",
    "    \n",
    "    for line in rdr:\n",
    "        print(line[0][3])\n",
    "        try:\n",
    "            input_date = datetime.datetime.strptime(line[0], system_date_format)\n",
    "            print(line[0] + \" : O.K.(\" + input_date.strftime(system_date_format)  + \")\")\n",
    "        except ValueError:\n",
    "            print(line[0] + \" : NOT O.K.\")\n",
    "    \n",
    "    f.close()"
   ]
  },
  {
   "cell_type": "code",
   "execution_count": null,
   "metadata": {},
   "outputs": [],
   "source": []
  }
 ],
 "metadata": {
  "interpreter": {
   "hash": "63fd5069d213b44bf678585dea6b12cceca9941eaf7f819626cde1f2670de90d"
  },
  "kernelspec": {
   "display_name": "Python 3.9.5 64-bit",
   "name": "python3"
  },
  "language_info": {
   "codemirror_mode": {
    "name": "ipython",
    "version": 3
   },
   "file_extension": ".py",
   "mimetype": "text/x-python",
   "name": "python",
   "nbconvert_exporter": "python",
   "pygments_lexer": "ipython3",
   "version": "3.9.5"
  },
  "orig_nbformat": 4
 },
 "nbformat": 4,
 "nbformat_minor": 2
}
