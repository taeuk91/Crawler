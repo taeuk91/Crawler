{
 "cells": [
  {
   "cell_type": "code",
   "execution_count": 74,
   "metadata": {},
   "outputs": [],
   "source": [
    "import requests, re, os \n",
    "from bs4 import BeautifulSoup\n",
    "import time\n",
    "import urllib.request #\n",
    "from selenium.webdriver import Chrome\n",
    "from selenium.webdriver.chrome.options import Options\n",
    "from selenium.webdriver.common.keys import Keys\n",
    "import datetime as dt\n",
    "from urllib.request import urlretrieve\n",
    "import csv\n",
    "\n",
    "#저장 폴더를 생성\n",
    "try:\n",
    "    if not (os.path.isdir('image')):\n",
    "        os.makedirs(os.path.join('image'))\n",
    "except OSError as e:\n",
    "    if e.errno != e.errno.EEXIST:\n",
    "        print(\"폴더 생성 실패!\")\n",
    "        exit()\n",
    "\n",
    "delay=3\n",
    "browser = Chrome()\n",
    "browser.implicitly_wait(delay)\n",
    "\n",
    "start_url  = 'https://www.youtube.com'\n",
    "browser.get(start_url)\n",
    "\n",
    "def searchWords(word):\n",
    "    search = browser.find_element_by_name('search_query')\n",
    "\n",
    "    search.clear()\n",
    "    search.send_keys(word)\n",
    "    time.sleep(1)\n",
    "\n",
    "    time.sleep(5)\n",
    "    with open('info.csv', 'a', newline='', encoding='utf-8-sig') as f:\n",
    "        writer = csv.writer(f)\n",
    "        writer.writerow([word])\n",
    "    \n",
    "    search.send_keys(Keys.ENTER)\n",
    "    time.sleep(1)\n",
    "\n",
    "def pagedown(scrollNum):\n",
    "    body = browser.find_element_by_tag_name('body')#스크롤하기 위해 소스 추출\n",
    "    num_of_pagedowns = scrollNum\n",
    "    #10번 밑으로 내리는 것\n",
    "    while num_of_pagedowns:\n",
    "        body.send_keys(Keys.PAGE_DOWN)\n",
    "        num_of_pagedowns -= 1\n",
    "\n",
    "def savelist():\n",
    "    time.sleep(5)\n",
    "    count = 0\n",
    "    videoSectionPath = '/html/body/ytd-app/div/ytd-page-manager/ytd-search/div[1]/ytd-two-column-search-results-renderer/div/ytd-section-list-renderer/div[2]/ytd-item-section-renderer/div[3]/'\n",
    "    namePath = '/div[1]/div/div[2]/ytd-channel-name/div/div/yt-formatted-string/a'\n",
    "\n",
    "    videoSectionPath = '/html/body/ytd-app/div/ytd-page-manager/ytd-search/div[1]/ytd-two-column-search-results-renderer/div/ytd-section-list-renderer/div[2]/ytd-item-section-renderer'\n",
    "    videoSectionLength = len(browser.find_elements_by_xpath(videoSectionPath))\n",
    "    print(len(browser.find_elements_by_xpath(videoSectionPath)))\n",
    "\n",
    "    total_info_list = []\n",
    "    for i in range(1, videoSectionLength):\n",
    "        temp = videoSectionPath + \"[%d]\" %i\n",
    "        parentPath = temp + \"/div[3]\"\n",
    "        #print(parentPath)\n",
    "        childPath = parentPath + \"/ytd-video-renderer\"\n",
    "        divLength = len(browser.find_elements_by_xpath(childPath))\n",
    "        #print(divLength)\n",
    "\n",
    "        info_list = []\n",
    "        # 10개의 작성자를 불러움\n",
    "        for count in range(1, divLength):\n",
    "            eachItemPath = childPath + \"[%d]\" %count\n",
    "            item = browser.find_elements_by_xpath(eachItemPath)\n",
    "            #print(eachItemPath)\n",
    "            sliced = item[0].text.split('\\n')\n",
    "            info_list.append(sliced)\n",
    "        #print(info_list[0])\n",
    "        total_info_list.append(info_list)\n",
    "        print(len(info_list))\n",
    "\n",
    "        infoEnum = ['비디오시간', '제목', '조회수', '게시년도', '게시자', '주요댓글', '자막여부']\n",
    "        search = infoEnum[1] + \" : \" +info_list[0][1]  \n",
    "        #print(search)\n",
    "    \n",
    "    time.sleep(5)\n",
    "    with open('info.csv', 'a', newline='', encoding='utf-8') as f:\n",
    "        writer = csv.writer(f)\n",
    "        #print(total_info_list)\n",
    "        writer.writerow(total_info_list)\n",
    "\n",
    "def saveTotal(searchword, pageDownCnt):\n",
    "    searchWords(searchword)\n",
    "\n",
    "    filterButton = browser.find_element_by_xpath('//*[@id=\"container\"]/ytd-toggle-button-renderer')\n",
    "    filterButton.click()\n",
    "    time.sleep(1)\n",
    "\n",
    "\n",
    "    viewerButton = browser.find_elements_by_xpath('//*[@id=\"collapse-content\"]/ytd-search-filter-group-renderer[5]/ytd-search-filter-renderer[3]/a')\n",
    "    viewerButton = viewerButton[0]\n",
    "    viewerButton.click()\n",
    "    time.sleep(1)\n",
    "\n",
    "    pagedown(pageDownCnt)\n",
    "       \n",
    "    savelist()"
   ]
  },
  {
   "cell_type": "code",
   "execution_count": 80,
   "metadata": {},
   "outputs": [
    {
     "name": "stdout",
     "output_type": "stream",
     "text": [
      "2\n",
      "19\n"
     ]
    }
   ],
   "source": [
    "saveTotal('정치유튜버', 10)"
   ]
  },
  {
   "cell_type": "code",
   "execution_count": 82,
   "metadata": {},
   "outputs": [
    {
     "name": "stdout",
     "output_type": "stream",
     "text": [
      "50\n",
      "3\n",
      "19\n",
      "19\n",
      "50\n",
      "3\n",
      "18\n",
      "19\n",
      "50\n",
      "3\n",
      "19\n",
      "18\n"
     ]
    }
   ],
   "source": [
    "with open('Input.csv', newline='') as f:\n",
    "     spamreader = csv.reader(f)\n",
    "     for row in spamreader:\n",
    "         print(row[1])\n",
    "         saveTotal(row[0], int(row[1]))\n"
   ]
  },
  {
   "cell_type": "code",
   "execution_count": null,
   "metadata": {},
   "outputs": [],
   "source": []
  }
 ],
 "metadata": {
  "interpreter": {
   "hash": "63fd5069d213b44bf678585dea6b12cceca9941eaf7f819626cde1f2670de90d"
  },
  "kernelspec": {
   "display_name": "Python 3.9.5 64-bit",
   "name": "python3"
  },
  "language_info": {
   "codemirror_mode": {
    "name": "ipython",
    "version": 3
   },
   "file_extension": ".py",
   "mimetype": "text/x-python",
   "name": "python",
   "nbconvert_exporter": "python",
   "pygments_lexer": "ipython3",
   "version": "3.9.5"
  },
  "orig_nbformat": 4
 },
 "nbformat": 4,
 "nbformat_minor": 2
}
